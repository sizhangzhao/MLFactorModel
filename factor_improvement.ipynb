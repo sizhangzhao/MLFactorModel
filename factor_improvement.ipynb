{
 "cells": [
  {
   "cell_type": "code",
   "execution_count": 1,
   "metadata": {},
   "outputs": [],
   "source": [
    "import pandas as pd\n",
    "import pandas_datareader.data as web\n",
    "import datetime\n",
    "import numpy as np\n",
    "import sklearn as sk\n",
    "from sklearn.decomposition import PCA\n",
    "from sklearn import linear_model\n",
    "from sklearn import neural_network\n",
    "import math as math\n",
    "import matplotlib.pyplot as plt\n",
    "from cvxpy import *"
   ]
  },
  {
   "cell_type": "markdown",
   "metadata": {},
   "source": [
    "This is for data type changing"
   ]
  },
  {
   "cell_type": "code",
   "execution_count": 2,
   "metadata": {
    "collapsed": true
   },
   "outputs": [],
   "source": [
    "def std(string):\n",
    "    datetime_object = datetime.datetime.strptime(string, '%Y-%m-%d')\n",
    "    return datetime_object"
   ]
  },
  {
   "cell_type": "code",
   "execution_count": 3,
   "metadata": {
    "collapsed": true
   },
   "outputs": [],
   "source": [
    "def its(number):\n",
    "    string_ = str(number)\n",
    "    string = string_[0:4] + '-' + string_[4:6] + '-' + string_[6:8]\n",
    "    return string\n",
    "def stf(string):\n",
    "    if (string == '.'):\n",
    "        return np.nan\n",
    "    else:\n",
    "        return float(string)"
   ]
  },
  {
   "cell_type": "markdown",
   "metadata": {},
   "source": [
    "Load the data, ret_etf.txt for ETF data, ret.txt for stock data, data.text for factor data"
   ]
  },
  {
   "cell_type": "code",
   "execution_count": 4,
   "metadata": {},
   "outputs": [],
   "source": [
    "factor = pd.read_csv('data.txt', sep='\\t')\n",
    "ret = pd.read_csv('ret_etf.txt', sep='\\t')"
   ]
  },
  {
   "cell_type": "markdown",
   "metadata": {},
   "source": [
    "This part is for merging the data"
   ]
  },
  {
   "cell_type": "code",
   "execution_count": 5,
   "metadata": {},
   "outputs": [],
   "source": [
    "time = pd.DataFrame(index = ret.index)\n",
    "time['DATE'] = ret['DATE']\n",
    "factor = pd.merge(time, factor, on = 'DATE')\n",
    "time = pd.DataFrame(index = factor.index)\n",
    "time['DATE'] = factor['DATE']\n",
    "ret = pd.merge(ret, time, on = 'DATE')\n",
    "factor['date'] = factor['DATE'].map(lambda x : std(x))\n",
    "ret['date'] = ret['DATE'].map(lambda x : std(x))\n",
    "del factor['DATE']\n",
    "del ret['DATE']\n",
    "rf = pd.DataFrame(index = ret.index)\n",
    "rf['rf'] = ret['rf']\n",
    "del ret['rf']\n",
    "del factor['date']\n",
    "del ret['date']"
   ]
  },
  {
   "cell_type": "code",
   "execution_count": 6,
   "metadata": {
    "collapsed": true
   },
   "outputs": [],
   "source": [
    "class estimate:\n",
    "    \n",
    "    __slots__ = 'mean', 'cov'\n",
    "    \n",
    "    def __init__(self, mean_, cov_):\n",
    "        self.mean = mean_\n",
    "        self.cov = cov_"
   ]
  },
  {
   "cell_type": "code",
   "execution_count": 7,
   "metadata": {
    "collapsed": true
   },
   "outputs": [],
   "source": [
    "def pca(factor, num):\n",
    "    pca = PCA(n_components=num)\n",
    "    new_factor = pca.fit_transform(factor)\n",
    "    print(pca.explained_variance_ratio_) \n",
    "    name = []\n",
    "    for i in range(0, num):\n",
    "        name.append(\"factor%s\" % str(i+1))\n",
    "    ld = pd.DataFrame(data=new_factor[0:,0:], columns = name)\n",
    "    return ld"
   ]
  },
  {
   "cell_type": "code",
   "execution_count": 8,
   "metadata": {
    "collapsed": true
   },
   "outputs": [],
   "source": [
    "def projection(estimate_, horizon):\n",
    "    mu = estimate_.mean\n",
    "    #print(mu)\n",
    "    covariance = estimate_.cov\n",
    "    mu_adapted = horizon * mu\n",
    "    cov_adapted = covariance * horizon\n",
    "    muu = np.exp(mu_adapted + 0.5 * np.diag(cov_adapted))\n",
    "    mu_a = muu - 1\n",
    "    #print(mu_a)\n",
    "    cov_a = np.dot(muu, muu) * (np.exp(cov_adapted)-1)\n",
    "    return estimate(mu_a, cov_a)"
   ]
  },
  {
   "cell_type": "code",
   "execution_count": 9,
   "metadata": {
    "collapsed": true
   },
   "outputs": [],
   "source": [
    "def normalize(factor):\n",
    "    new_factor = (factor - factor.mean())/factor.std()\n",
    "    return new_factor"
   ]
  },
  {
   "cell_type": "markdown",
   "metadata": {},
   "source": [
    "Hist estimates"
   ]
  },
  {
   "cell_type": "code",
   "execution_count": 10,
   "metadata": {
    "collapsed": true
   },
   "outputs": [],
   "source": [
    "def historical_est(hist_ret):\n",
    "    \n",
    "    hist_mean_ret = np.mean(hist_ret, axis = 0)\n",
    "    \n",
    "    hist_cov = np.cov(hist_ret, rowvar=0)\n",
    "    \n",
    "    return(hist_mean_ret, hist_cov)"
   ]
  },
  {
   "cell_type": "markdown",
   "metadata": {},
   "source": [
    "Benchmark (OLS regression) algo"
   ]
  },
  {
   "cell_type": "code",
   "execution_count": 11,
   "metadata": {
    "collapsed": true
   },
   "outputs": [],
   "source": [
    "def reg(ret, factor, horizon, num, pos):\n",
    "    #print(factor)\n",
    "    factor = factor.ix[(pos+1):]\n",
    "    ret = ret[:-1]\n",
    "    #print(factor)\n",
    "    new_factor = pca(factor, num)\n",
    "    norm_factor = normalize(new_factor)\n",
    "    fitted = pd.DataFrame(index=ret.index)\n",
    "    #norm_factor['one'] = np.ones(len(norm_factor))\n",
    "    residual = []\n",
    "    B = []\n",
    "    inter = []\n",
    "    regr = linear_model.LinearRegression()\n",
    "    for i in ret.columns:\n",
    "        regr.fit(norm_factor, ret[i])\n",
    "        para = regr.coef_\n",
    "        B.append(para)\n",
    "        inter.append(regr.intercept_)\n",
    "        #print(para)\n",
    "        fitted[i] = np.dot(norm_factor, para)\n",
    "        resi = ret[i] - fitted[i] - regr.intercept_\n",
    "        residual.append(np.var(resi))\n",
    "    intercept = np.array(inter)\n",
    "    mean = np.mean(fitted) + intercept\n",
    "    B = np.matrix(B)\n",
    "    #print(mean[0])\n",
    "    cov_factor = np.cov(norm_factor, rowvar=0)\n",
    "    allresidual = np.array(residual)\n",
    "    cov_res = np.diag(allresidual)\n",
    "    cov = np.dot(np.dot(B, cov_factor), np.transpose(B)) + cov_res\n",
    "    return projection(estimate(mean, cov),horizon)"
   ]
  },
  {
   "cell_type": "markdown",
   "metadata": {},
   "source": [
    "SVR (linear kernel) algo"
   ]
  },
  {
   "cell_type": "code",
   "execution_count": 12,
   "metadata": {
    "collapsed": true
   },
   "outputs": [],
   "source": [
    "def svm(ret, factor, horizon, num, pos):\n",
    "    factor = factor.ix[(pos+1):]\n",
    "    ret = ret[:-1]\n",
    "    new_factor = pca(factor, num)\n",
    "    norm_factor = normalize(new_factor)\n",
    "    fitted = pd.DataFrame(index=ret.index)\n",
    "    residual = []\n",
    "    B = []\n",
    "    inter = []\n",
    "    #norm_factor['one'] = np.ones(len(norm_factor))\n",
    "    regr = sk.svm.LinearSVR(max_iter=100000, C = 100)\n",
    "    #regr = sk.svm.SVR(kernel = \"linear\")\n",
    "    for i in ret.columns:\n",
    "        regr.fit(norm_factor, ret[i])\n",
    "        para = regr.coef_\n",
    "        B.append(para)\n",
    "        inter.append(regr.intercept_[0])\n",
    "        #print(para[0])\n",
    "        fitted[i] = np.dot(norm_factor, para)\n",
    "        #print(fitted[i])\n",
    "        #fitted[i] = np.dot(norm_factor, np.transpose(para))\n",
    "        resi = ret[i] - fitted[i] - regr.intercept_\n",
    "        residual.append(np.var(resi))\n",
    "    #print(fitted)\n",
    "    intercept = np.array(inter)\n",
    "    mean = np.mean(fitted) + intercept\n",
    "    #print(mean)\n",
    "    B = np.matrix(B)\n",
    "    #print(mean[0])\n",
    "    cov_factor = np.cov(norm_factor, rowvar=0)\n",
    "    allresidual = np.array(residual)\n",
    "    cov_res = np.diag(allresidual)\n",
    "    cov = np.dot(np.dot(B, cov_factor), np.transpose(B)) + cov_res\n",
    "    return projection(estimate(mean, cov),horizon)"
   ]
  },
  {
   "cell_type": "markdown",
   "metadata": {},
   "source": [
    "SVR (gaussian kernel) algo"
   ]
  },
  {
   "cell_type": "code",
   "execution_count": 13,
   "metadata": {
    "collapsed": true
   },
   "outputs": [],
   "source": [
    "def svm2(ret, factor, horizon, num, pos,pcaset=False):\n",
    "    factor = factor.ix[(pos+1):]\n",
    "    ret = ret[:-1]\n",
    "    new_factor = normalize(factor)\n",
    "    if pcaset ==True:\n",
    "        new_factor = pca(new_factor, num)  \n",
    "    fitted = pd.DataFrame(index=ret.index)\n",
    "    residual = []\n",
    "    B = []\n",
    "    inter = []\n",
    "    #norm_factor['one'] = np.ones(len(norm_factor))\n",
    "    regr = sk.svm.SVR(max_iter=10000, C = 10)\n",
    "    #regr = sk.svm.SVR(kernel = \"linear\")\n",
    "    for i in ret.columns:\n",
    "        regr.fit(new_factor, ret[i])\n",
    "        fitted[i] = regr.predict(new_factor)\n",
    "        #print(fitted[i])\n",
    "        #fitted[i] = np.dot(norm_factor, np.transpose(para))\n",
    "        resi = ret[i] - fitted[i]\n",
    "        residual.append(np.var(resi))\n",
    "    #print(fitted)\n",
    "    intercept = np.array(inter)\n",
    "    mean = np.mean(fitted)\n",
    "    #print(mean)    \n",
    "    #print(mean[0])\n",
    "    allresidual = np.array(residual)\n",
    "    cov_res = np.diag(allresidual)\n",
    "    cov = np.cov(fitted, rowvar=0) + cov_res\n",
    "    return projection(estimate(mean, cov),horizon)"
   ]
  },
  {
   "cell_type": "markdown",
   "metadata": {},
   "source": [
    "Huber regression"
   ]
  },
  {
   "cell_type": "code",
   "execution_count": 14,
   "metadata": {
    "collapsed": true
   },
   "outputs": [],
   "source": [
    "def huber(ret, factor, horizon, num, pos):\n",
    "    factor = factor.ix[(pos+1):]\n",
    "    ret = ret[:-1]\n",
    "    new_factor = pca(factor, num)\n",
    "    norm_factor = normalize(new_factor)\n",
    "    fitted = pd.DataFrame(index=ret.index)\n",
    "    residual = []\n",
    "    B = []\n",
    "    inter = []\n",
    "    #norm_factor['one'] = np.ones(len(norm_factor))\n",
    "    regr = linear_model.HuberRegressor(alpha = 0)\n",
    "    for i in ret.columns:\n",
    "        regr.fit(norm_factor, ret[i])\n",
    "        para = regr.coef_\n",
    "        B.append(para)\n",
    "        inter.append(regr.intercept_)\n",
    "        #print(para)\n",
    "        fitted[i] = np.dot(norm_factor, para)\n",
    "        resi = ret[i] - fitted[i] - regr.intercept_\n",
    "        residual.append(np.var(resi))\n",
    "    intercept = np.array(inter)\n",
    "    mean = np.mean(fitted) + intercept\n",
    "    B = np.matrix(B)\n",
    "    #print(mean[0])\n",
    "    cov_factor = np.cov(norm_factor, rowvar=0)\n",
    "    allresidual = np.array(residual)\n",
    "    cov_res = np.diag(allresidual)\n",
    "    cov = np.dot(np.dot(B, cov_factor), np.transpose(B)) + cov_res\n",
    "    return projection(estimate(mean, cov),horizon)"
   ]
  },
  {
   "cell_type": "markdown",
   "metadata": {},
   "source": [
    "Neural network"
   ]
  },
  {
   "cell_type": "code",
   "execution_count": 15,
   "metadata": {},
   "outputs": [],
   "source": [
    "def nn(ret, factor, horizon, num, pos):\n",
    "    factor = factor.ix[(pos+1):]\n",
    "    ret = ret[:-1]\n",
    "    new_factor = pca(factor, num)\n",
    "    norm_factor = normalize(new_factor)\n",
    "    fitted = pd.DataFrame(index=ret.index)\n",
    "    residual = []\n",
    "    B = []\n",
    "    inter = []\n",
    "    #norm_factor['one'] = np.ones(len(norm_factor))\n",
    "    regr = neural_network.MLPRegressor(hidden_layer_sizes = (20,), alpha = 0, max_iter = 1000,\n",
    "                                       solver = 'lbfgs')\n",
    "    for i in ret.columns:\n",
    "        regr.fit(norm_factor, ret[i])\n",
    "        fitted[i] = regr.predict(norm_factor)\n",
    "        resi = ret[i] - fitted[i]\n",
    "        residual.append(np.var(resi))\n",
    "    mean = np.mean(fitted)\n",
    "    #print(mean[0])\n",
    "    allresidual = np.array(residual)\n",
    "    cov_res = np.diag(allresidual)\n",
    "    cov = np.cov(fitted, rowvar=0) + cov_res\n",
    "    return projection(estimate(mean, cov),horizon)"
   ]
  },
  {
   "cell_type": "markdown",
   "metadata": {},
   "source": [
    "Back_testing functions"
   ]
  },
  {
   "cell_type": "code",
   "execution_count": 16,
   "metadata": {
    "collapsed": true
   },
   "outputs": [],
   "source": [
    "def optimal_weights(returns, cov, rf):\n",
    "    U = np.linalg.cholesky(cov)\n",
    "    n = len(returns)\n",
    "    w = Variable(n+1)\n",
    "    #w0 = Variable\n",
    "    sigma = Parameter(sign='positive')\n",
    "    returns['rf'] = np.log(1+rf)/12\n",
    "    returns = np.array(returns)\n",
    "    ret = returns.T * w\n",
    "    prob = Problem(Maximize(ret),\n",
    "                  [sum_entries(w) == 1, \n",
    "                  w >= 0,\n",
    "                  w <= 0.5,  \n",
    "                  norm(U * w[:n]) <= sigma])\n",
    "    sigma.value = 0.2\n",
    "    prob.solve()\n",
    "    return w.value"
   ]
  },
  {
   "cell_type": "code",
   "execution_count": 17,
   "metadata": {
    "collapsed": true
   },
   "outputs": [],
   "source": [
    "def sharpe_ratio(returns, rf):\n",
    "    ex_return = np.mean(returns) - np.mean(rf)\n",
    "    vol = np.std(returns)\n",
    "    return(ex_return/vol)"
   ]
  },
  {
   "cell_type": "code",
   "execution_count": 18,
   "metadata": {
    "collapsed": true
   },
   "outputs": [],
   "source": [
    "def maximum_drawdown(returns):\n",
    "    mdd = 0\n",
    "    peak = returns[0]\n",
    "    for x in returns:\n",
    "        if x > peak: \n",
    "            peak = x\n",
    "        dd = (peak - x) / peak\n",
    "        if dd > mdd:\n",
    "            mdd = dd\n",
    "    \n",
    "    return(mdd)"
   ]
  },
  {
   "cell_type": "code",
   "execution_count": 19,
   "metadata": {},
   "outputs": [],
   "source": [
    "def backtest(training_period, factor,ret_data,freq, rf):\n",
    "    T = math.floor( (len(factor) - training_period) / freq )\n",
    "    #print(T)\n",
    "    #print(len(factor))\n",
    "    num_of_asset = len(ret_data.iloc[0])\n",
    "    \n",
    "    strat_ret = np.zeros((T,1))\n",
    "    strat_ret_bench1 = np.zeros((T,1))\n",
    "    #strat_ret_bench2 = np.zeros((T,1))\n",
    "    strat_ret_hist = np.zeros((T,1))\n",
    "    for trade_day in range(T):\n",
    "        print(trade_day)\n",
    "        start_date =  freq * (trade_day - 1) \n",
    "        end_date = start_date + training_period\n",
    "        if trade_day == 0:\n",
    "            weights = 1/num_of_asset * np.ones((num_of_asset+1,1))\n",
    "            bench_weight1 = 1/num_of_asset * np.ones((num_of_asset+1,1))\n",
    "            #bench_weight2 = 1/num_of_asset * np.ones((num_of_asset+1,1))\n",
    "            hist_weights = 1/num_of_asset * np.ones((num_of_asset+1,1))\n",
    "        else:\n",
    "            hist_factor = factor[ start_date : end_date ]\n",
    "            hist_ret  = ret_data[start_date: end_date]\n",
    "            #print(len(hist_ret))\n",
    "            hist_rf = np.mean(rf[ start_date: end_date])/12\n",
    "            returns , cov = historical_est(hist_ret)\n",
    "            #print(hist_ret * 1000)\n",
    "            #print(cov)\n",
    "            #print(cov+np.exp(-10)-cov)\n",
    "            hist_weights = optimal_weights(returns, cov, hist_rf[0])\n",
    "            \n",
    "            #here to change the functions corresponding to different methods\n",
    "            estimate = huber(hist_ret,hist_factor, freq, 4,start_date)\n",
    "            returns = estimate.mean\n",
    "            cov = estimate.cov\n",
    "            weights = optimal_weights(returns, cov, hist_rf[0])\n",
    "            #print(weights)\n",
    "            estimate = reg(hist_ret,hist_factor, freq, 4, start_date)\n",
    "            returns = estimate.mean\n",
    "            cov = estimate.cov\n",
    "            bench_weight1 = optimal_weights(returns, cov, hist_rf[0])\n",
    "            #print(bench_weight1)\n",
    "            #bench_weight2 = 1/num_of_asset * np.ones((num_of_asset+1,1))\n",
    "        \n",
    "        ret_data['rf'] = np.log(1+rf)/252\n",
    "        next_period_data = ret_data[ end_date: (end_date + freq)]\n",
    "        #print(next_period_data)\n",
    "        next_period_ret = np.exp(next_period_data)\n",
    "        next_period_ret = next_period_ret.prod(axis = 0)\n",
    "        #print(next_period_ret)\n",
    "        next_period_ret = np.asarray(next_period_ret) - 1\n",
    "        del ret_data['rf']\n",
    "        \n",
    "        strat_ret[trade_day] =  np.dot(np.transpose(weights), next_period_ret )\n",
    "        #print(strat_ret[trade_day])\n",
    "        strat_ret_bench1[trade_day] =  np.dot(np.transpose(bench_weight1), next_period_ret )\n",
    "        #print(strat_ret_bench1[trade_day])\n",
    "        #strat_ret_bench2[trade_day] =  np.dot(np.transpose(bench_weight2), next_period_ret )\n",
    "        strat_ret_hist[trade_day] =  np.dot(np.transpose(hist_weights), next_period_ret )\n",
    "        #print(strat_ret_bench2[trade_day])\n",
    "    \n",
    "    # Performance Analysis\n",
    "    sharpe = (sharpe_ratio(strat_ret, rf), sharpe_ratio(strat_ret_bench1, rf), sharpe_ratio(strat_ret_hist, rf))\n",
    "#     print(strat_ret)\n",
    "    cum_ret = np.cumprod(strat_ret+1)\n",
    "    cum_ret_bench1 = np.cumprod(strat_ret_bench1+1)\n",
    "    #cum_ret_bench2 = np.cumprod(strat_ret_bench2+1)\n",
    "    cum_ret_hist = np.cumprod(strat_ret_hist+1)\n",
    "#     print(cum_ret)\n",
    "#     print(cum_ret_bench1)\n",
    "#     print(cum_ret_bench2)\n",
    "    cum_wealth = np.append([1],cum_ret)\n",
    "    cum_wealth_bench1 = np.append([1],cum_ret_bench1)\n",
    "    #cum_wealth_bench2 = np.append([1],cum_ret_bench2)\n",
    "    cum_wealth_hist = np.append([1],cum_ret_hist)\n",
    "    cum_wealth_ = (cum_wealth, cum_wealth_bench1, cum_wealth_hist)\n",
    "    md = (maximum_drawdown(cum_wealth), maximum_drawdown(cum_wealth_bench1),maximum_drawdown(cum_wealth_hist))\n",
    "    plt.plot(cum_wealth, 'r', label='nn')\n",
    "    plt.plot(cum_wealth_bench1, 'b', label='reg')\n",
    "    #plt.plot(cum_wealth_bench2, 'g', label='uniform')\n",
    "    plt.plot(cum_wealth_hist, 'c', label='hist')\n",
    "    plt.legend(loc='upper center', bbox_to_anchor=(0.5, -0.05), ncol=3)\n",
    "    plt.show()\n",
    "    \n",
    "    return(sharpe, md, cum_wealth_)"
   ]
  },
  {
   "cell_type": "markdown",
   "metadata": {},
   "source": [
    "Testing"
   ]
  },
  {
   "cell_type": "code",
   "execution_count": 20,
   "metadata": {
    "scrolled": true
   },
   "outputs": [
    {
     "name": "stdout",
     "output_type": "stream",
     "text": [
      "0\n",
      "1\n",
      "[ 0.80298631  0.13436344  0.03846967  0.01104738]\n",
      "[ 0.80298631  0.13436344  0.03846967  0.01104738]\n",
      "2\n",
      "[ 0.89720845  0.06981727  0.01832251  0.00837342]\n"
     ]
    },
    {
     "name": "stderr",
     "output_type": "stream",
     "text": [
      "/Library/Frameworks/Python.framework/Versions/3.5/lib/python3.5/site-packages/scipy/linalg/basic.py:884: RuntimeWarning: internal gelsd driver lwork query error, required iwork dimension not returned. This is likely the result of LAPACK bug 0038, fixed in LAPACK 3.2.2 (released July 21, 2010). Falling back to 'gelss' driver.\n",
      "  warnings.warn(mesg, RuntimeWarning)\n"
     ]
    },
    {
     "name": "stdout",
     "output_type": "stream",
     "text": [
      "[ 0.89720845  0.06981727  0.01832251  0.00837342]\n",
      "3\n",
      "[ 0.92633929  0.05111847  0.01317117  0.00416451]\n",
      "[ 0.92633929  0.05111847  0.01317117  0.00416451]\n",
      "4\n",
      "[ 0.93938603  0.04518282  0.00754163  0.00294727]\n",
      "[ 0.93938603  0.04518282  0.00754163  0.00294727]\n",
      "5\n",
      "[ 0.87776658  0.06583044  0.03396413  0.01106525]\n",
      "[ 0.87776658  0.06583044  0.03396413  0.01106525]\n",
      "6\n",
      "[ 0.93182981  0.02977285  0.01923107  0.00771362]\n",
      "[ 0.93182981  0.02977285  0.01923107  0.00771362]\n",
      "7\n",
      "[ 0.82567346  0.12922988  0.03106123  0.00662174]\n",
      "[ 0.82567346  0.12922988  0.03106123  0.00662174]\n",
      "8\n",
      "[ 0.94395189  0.03701582  0.01174003  0.00338142]\n",
      "[ 0.94395189  0.03701582  0.01174003  0.00338142]\n",
      "9\n",
      "[ 0.89301345  0.07995216  0.0185236   0.00411778]\n",
      "[ 0.89301345  0.07995216  0.0185236   0.00411778]\n",
      "10\n",
      "[ 0.67929806  0.26073592  0.04054456  0.00853043]\n",
      "[ 0.67929806  0.26073592  0.04054456  0.00853043]\n",
      "11\n",
      "[ 0.75099085  0.15287608  0.06313376  0.01841569]\n",
      "[ 0.75099085  0.15287608  0.06313376  0.01841569]\n",
      "12\n",
      "[ 0.38107243  0.33931645  0.13285747  0.11102187]\n",
      "[ 0.38107243  0.33931645  0.13285747  0.11102187]\n",
      "13\n",
      "[ 0.64858946  0.17979146  0.10679606  0.03238278]\n",
      "[ 0.64858946  0.17979146  0.10679606  0.03238278]\n",
      "14\n",
      "[ 0.77885002  0.11172247  0.07360502  0.0139521 ]\n",
      "[ 0.77885002  0.11172247  0.07360502  0.0139521 ]\n",
      "15\n",
      "[ 0.84934285  0.07384951  0.05709324  0.00884916]\n",
      "[ 0.84934285  0.07384951  0.05709324  0.00884916]\n",
      "16\n",
      "[ 0.84735062  0.08992913  0.03704835  0.00903891]\n",
      "[ 0.84735062  0.08992913  0.03704835  0.00903891]\n",
      "17\n",
      "[ 0.58041104  0.30182513  0.06305661  0.02039149]\n",
      "[ 0.58041104  0.30182513  0.06305661  0.02039149]\n",
      "18\n",
      "[ 0.70408181  0.17883501  0.05946141  0.02445902]\n",
      "[ 0.70408181  0.17883501  0.05946141  0.02445902]\n",
      "19\n",
      "[ 0.75235014  0.11325313  0.07448561  0.03675921]\n",
      "[ 0.75235014  0.11325313  0.07448561  0.03675921]\n",
      "20\n",
      "[ 0.74359678  0.16571814  0.0617085   0.01466569]\n",
      "[ 0.74359678  0.16571814  0.0617085   0.01466569]\n",
      "21\n",
      "[ 0.66096401  0.23884911  0.05764225  0.02410005]\n",
      "[ 0.66096401  0.23884911  0.05764225  0.02410005]\n",
      "22\n",
      "[ 0.49971341  0.34638359  0.07857097  0.05096987]\n",
      "[ 0.49971341  0.34638359  0.07857097  0.05096987]\n",
      "23\n",
      "[ 0.69427955  0.15931112  0.09018407  0.03560582]\n",
      "[ 0.69427955  0.15931112  0.09018407  0.03560582]\n",
      "24\n",
      "[ 0.83481154  0.07242732  0.04554103  0.03189078]\n",
      "[ 0.83481154  0.07242732  0.04554103  0.03189078]\n",
      "25\n",
      "[ 0.80811866  0.124111    0.03694322  0.01508054]\n",
      "[ 0.80811866  0.124111    0.03694322  0.01508054]\n",
      "26\n",
      "[ 0.92529704  0.03940323  0.02074373  0.00973389]\n",
      "[ 0.92529704  0.03940323  0.02074373  0.00973389]\n",
      "27\n",
      "[ 0.90177441  0.05287458  0.02462196  0.01386237]\n",
      "[ 0.90177441  0.05287458  0.02462196  0.01386237]\n",
      "28\n",
      "[ 0.81836266  0.0792132   0.05209258  0.03681717]\n",
      "[ 0.81836266  0.0792132   0.05209258  0.03681717]\n",
      "29\n",
      "[ 0.63328057  0.1925079   0.10742199  0.04493211]\n",
      "[ 0.63328057  0.1925079   0.10742199  0.04493211]\n",
      "30\n",
      "[ 0.66912342  0.15869503  0.10246389  0.04936568]\n",
      "[ 0.66912342  0.15869503  0.10246389  0.04936568]\n",
      "31\n",
      "[ 0.86249585  0.0717523   0.03338052  0.02184114]\n",
      "[ 0.86249585  0.0717523   0.03338052  0.02184114]\n",
      "32\n",
      "[ 0.8083263   0.08675997  0.06089413  0.03052366]\n",
      "[ 0.8083263   0.08675997  0.06089413  0.03052366]\n",
      "33\n",
      "[ 0.81771472  0.08118646  0.05439738  0.02781583]\n",
      "[ 0.81771472  0.08118646  0.05439738  0.02781583]\n",
      "34\n",
      "[ 0.68602804  0.17363668  0.0729598   0.04258818]\n",
      "[ 0.68602804  0.17363668  0.0729598   0.04258818]\n",
      "35\n",
      "[ 0.87714916  0.0744862   0.02641354  0.01450936]\n",
      "[ 0.87714916  0.0744862   0.02641354  0.01450936]\n",
      "36\n",
      "[ 0.90382991  0.08168211  0.00849033  0.00266367]\n",
      "[ 0.90382991  0.08168211  0.00849033  0.00266367]\n",
      "37\n",
      "[ 0.81128963  0.14791927  0.01942095  0.01400684]\n",
      "[ 0.81128963  0.14791927  0.01942095  0.01400684]\n",
      "38\n",
      "[ 0.91876802  0.03865785  0.02176817  0.01468611]\n",
      "[ 0.91876802  0.03865785  0.02176817  0.01468611]\n",
      "39\n",
      "[ 0.90639731  0.05358545  0.02121778  0.00948715]\n",
      "[ 0.90639731  0.05358545  0.02121778  0.00948715]\n",
      "40\n",
      "[ 0.91132973  0.05292783  0.02724591  0.00376703]\n",
      "[ 0.91132973  0.05292783  0.02724591  0.00376703]\n",
      "41\n",
      "[ 0.90709697  0.04563194  0.02919413  0.01149478]\n",
      "[ 0.90709697  0.04563194  0.02919413  0.01149478]\n",
      "42\n",
      "[ 0.77182202  0.12041697  0.05671801  0.03187848]\n",
      "[ 0.77182202  0.12041697  0.05671801  0.03187848]\n",
      "43\n",
      "[ 0.75920068  0.14919414  0.05588982  0.02127043]\n",
      "[ 0.75920068  0.14919414  0.05588982  0.02127043]\n",
      "44\n",
      "[ 0.80241103  0.12817227  0.0395276   0.02039939]\n",
      "[ 0.80241103  0.12817227  0.0395276   0.02039939]\n",
      "45\n",
      "[ 0.76286082  0.15019302  0.05274897  0.02241233]\n",
      "[ 0.76286082  0.15019302  0.05274897  0.02241233]\n",
      "46\n",
      "[ 0.65979488  0.266851    0.03580725  0.02300379]\n",
      "[ 0.65979488  0.266851    0.03580725  0.02300379]\n",
      "47\n",
      "[ 0.78878233  0.13450762  0.03456005  0.02556372]\n",
      "[ 0.78878233  0.13450762  0.03456005  0.02556372]\n",
      "48\n",
      "[ 0.74529127  0.15089057  0.05379337  0.02020766]\n",
      "[ 0.74529127  0.15089057  0.05379337  0.02020766]\n",
      "49\n",
      "[ 0.95341898  0.02634354  0.01019673  0.0037246 ]\n",
      "[ 0.95341898  0.02634354  0.01019673  0.0037246 ]\n",
      "50\n",
      "[ 0.91446781  0.06613259  0.01141552  0.00328699]\n",
      "[ 0.91446781  0.06613259  0.01141552  0.00328699]\n",
      "51\n",
      "[ 0.67151586  0.2645737   0.03554216  0.01532084]\n",
      "[ 0.67151586  0.2645737   0.03554216  0.01532084]\n",
      "52\n",
      "[ 0.89811633  0.05473926  0.02429183  0.01329739]\n",
      "[ 0.89811633  0.05473926  0.02429183  0.01329739]\n",
      "53\n",
      "[ 0.70647224  0.15822662  0.07842306  0.03298016]\n",
      "[ 0.70647224  0.15822662  0.07842306  0.03298016]\n",
      "54\n",
      "[ 0.8373113   0.07691173  0.04424346  0.02511487]\n",
      "[ 0.8373113   0.07691173  0.04424346  0.02511487]\n",
      "55\n",
      "[ 0.85155457  0.07706752  0.03166105  0.01666653]\n",
      "[ 0.85155457  0.07706752  0.03166105  0.01666653]\n",
      "56\n",
      "[ 0.82431263  0.11494291  0.02926134  0.01412918]\n",
      "[ 0.82431263  0.11494291  0.02926134  0.01412918]\n",
      "57\n",
      "[ 0.83704791  0.11024288  0.02362299  0.01594549]\n",
      "[ 0.83704791  0.11024288  0.02362299  0.01594549]\n",
      "58\n",
      "[ 0.58126041  0.28571189  0.08566596  0.02795209]\n",
      "[ 0.58126041  0.28571189  0.08566596  0.02795209]\n",
      "59\n",
      "[ 0.70573013  0.17656214  0.06043311  0.03388631]\n",
      "[ 0.70573013  0.17656214  0.06043311  0.03388631]\n",
      "60\n",
      "[ 0.74691004  0.14161318  0.04386989  0.03559094]\n",
      "[ 0.74691004  0.14161318  0.04386989  0.03559094]\n",
      "61\n",
      "[ 0.5501911   0.33258824  0.05515855  0.03925612]\n",
      "[ 0.5501911   0.33258824  0.05515855  0.03925612]\n",
      "62\n",
      "[ 0.83032489  0.11817359  0.0254412   0.01649884]\n",
      "[ 0.83032489  0.11817359  0.0254412   0.01649884]\n",
      "63\n",
      "[ 0.87467441  0.06887563  0.02888928  0.01663722]\n",
      "[ 0.87467441  0.06887563  0.02888928  0.01663722]\n",
      "64\n",
      "[ 0.5507675   0.2559924   0.10887066  0.0456574 ]\n",
      "[ 0.5507675   0.2559924   0.10887066  0.0456574 ]\n",
      "65\n",
      "[ 0.81948935  0.12975331  0.02352127  0.01404864]\n",
      "[ 0.81948935  0.12975331  0.02352127  0.01404864]\n",
      "66\n",
      "[ 0.88275712  0.0789261   0.01518048  0.01287533]\n",
      "[ 0.88275712  0.0789261   0.01518048  0.01287533]\n",
      "67\n",
      "[ 0.80291193  0.12892361  0.03380241  0.01441507]\n",
      "[ 0.80291193  0.12892361  0.03380241  0.01441507]\n",
      "68\n",
      "[ 0.6307566   0.28806665  0.04582579  0.01618965]\n",
      "[ 0.6307566   0.28806665  0.04582579  0.01618965]\n",
      "69\n",
      "[ 0.67524333  0.25626426  0.03660326  0.01187976]\n",
      "[ 0.67524333  0.25626426  0.03660326  0.01187976]\n",
      "70\n",
      "[ 0.62779563  0.25217297  0.07304399  0.01976297]\n",
      "[ 0.62779563  0.25217297  0.07304399  0.01976297]\n",
      "71\n",
      "[ 0.50379188  0.26820481  0.13316649  0.03653317]\n",
      "[ 0.50379188  0.26820481  0.13316649  0.03653317]\n",
      "72\n",
      "[ 0.6599487   0.20658715  0.07614831  0.02154505]\n",
      "[ 0.6599487   0.20658715  0.07614831  0.02154505]\n",
      "73\n",
      "[ 0.78047176  0.10489733  0.0561437   0.01846622]\n",
      "[ 0.78047176  0.10489733  0.0561437   0.01846622]\n",
      "74\n",
      "[ 0.84575709  0.1110186   0.02284841  0.00729033]\n",
      "[ 0.84575709  0.1110186   0.02284841  0.00729033]\n",
      "75\n",
      "[ 0.87092807  0.08955474  0.01702728  0.01319031]\n",
      "[ 0.87092807  0.08955474  0.01702728  0.01319031]\n",
      "76\n",
      "[ 0.81978045  0.12972475  0.02712577  0.01310173]\n",
      "[ 0.81978045  0.12972475  0.02712577  0.01310173]\n",
      "77\n",
      "[ 0.84290934  0.12975221  0.01189507  0.00775504]\n",
      "[ 0.84290934  0.12975221  0.01189507  0.00775504]\n",
      "78\n",
      "[ 0.92544172  0.06377117  0.00554063  0.0026208 ]\n",
      "[ 0.92544172  0.06377117  0.00554063  0.0026208 ]\n",
      "79\n",
      "[ 0.96003111  0.02559724  0.00650567  0.00444704]\n",
      "[ 0.96003111  0.02559724  0.00650567  0.00444704]\n",
      "80\n",
      "[ 0.76447515  0.18198672  0.02698219  0.0159444 ]\n",
      "[ 0.76447515  0.18198672  0.02698219  0.0159444 ]\n",
      "81\n",
      "[ 0.47662841  0.3663114   0.09547388  0.03525523]\n",
      "[ 0.47662841  0.3663114   0.09547388  0.03525523]\n",
      "82\n",
      "[ 0.7952066   0.11641994  0.05352854  0.01710853]\n",
      "[ 0.7952066   0.11641994  0.05352854  0.01710853]\n",
      "83\n",
      "[ 0.91537153  0.03434992  0.02779782  0.01060496]\n",
      "[ 0.91537153  0.03434992  0.02779782  0.01060496]\n",
      "84\n",
      "[ 0.64911149  0.23915055  0.0517821   0.03417013]\n",
      "[ 0.64911149  0.23915055  0.0517821   0.03417013]\n",
      "85\n",
      "[ 0.87141581  0.08938813  0.01686667  0.01197184]\n",
      "[ 0.87141581  0.08938813  0.01686667  0.01197184]\n",
      "86\n",
      "[ 0.68586375  0.28746968  0.01473719  0.00543258]\n",
      "[ 0.68586375  0.28746968  0.01473719  0.00543258]\n",
      "87\n",
      "[ 0.83066604  0.11967974  0.02628908  0.0114134 ]\n",
      "[ 0.83066604  0.11967974  0.02628908  0.0114134 ]\n",
      "88\n",
      "[ 0.80301475  0.11768574  0.03268863  0.0240032 ]\n",
      "[ 0.80301475  0.11768574  0.03268863  0.0240032 ]\n",
      "89\n",
      "[ 0.46117694  0.43486118  0.04282821  0.03007576]\n",
      "[ 0.46117694  0.43486118  0.04282821  0.03007576]\n",
      "90\n",
      "[ 0.87079292  0.06698863  0.02685896  0.01938075]\n",
      "[ 0.87079292  0.06698863  0.02685896  0.01938075]\n",
      "91\n",
      "[ 0.847094    0.07084723  0.03258295  0.02442097]\n",
      "[ 0.847094    0.07084723  0.03258295  0.02442097]\n",
      "92\n",
      "[ 0.84111734  0.05680106  0.04406066  0.0278382 ]\n",
      "[ 0.84111734  0.05680106  0.04406066  0.0278382 ]\n",
      "93\n",
      "[ 0.87742385  0.04418924  0.0359821   0.02094089]\n",
      "[ 0.87742385  0.04418924  0.0359821   0.02094089]\n",
      "94\n",
      "[ 0.81429862  0.10348409  0.03713807  0.01473494]\n",
      "[ 0.81429862  0.10348409  0.03713807  0.01473494]\n",
      "95\n",
      "[ 0.69463237  0.24366418  0.02173968  0.01838069]\n",
      "[ 0.69463237  0.24366418  0.02173968  0.01838069]\n",
      "96\n",
      "[ 0.58678944  0.26753996  0.07931648  0.03456568]\n",
      "[ 0.58678944  0.26753996  0.07931648  0.03456568]\n",
      "97\n",
      "[ 0.66463967  0.25688259  0.03344413  0.0248575 ]\n",
      "[ 0.66463967  0.25688259  0.03344413  0.0248575 ]\n",
      "98\n",
      "[ 0.56858565  0.27999957  0.06200247  0.04147516]\n",
      "[ 0.56858565  0.27999957  0.06200247  0.04147516]\n",
      "99\n",
      "[ 0.66370033  0.21321663  0.06746805  0.02554674]\n",
      "[ 0.66370033  0.21321663  0.06746805  0.02554674]\n",
      "100\n",
      "[ 0.48608595  0.2569899   0.17890941  0.0342428 ]\n",
      "[ 0.48608595  0.2569899   0.17890941  0.0342428 ]\n",
      "101\n",
      "[ 0.67413213  0.16024766  0.10433612  0.02602411]\n",
      "[ 0.67413213  0.16024766  0.10433612  0.02602411]\n"
     ]
    },
    {
     "data": {
      "image/png": "[encoded data removed]",
      "text/plain": [
       "<matplotlib.figure.Figure at 0x10315e390>"
      ]
     },
     "metadata": {},
     "output_type": "display_data"
    }
   ],
   "source": [
    "sharpe, md, cum = backtest(21*3, factor, ret, 21, rf)\n",
    "#sum(rf[ ( 21 * (2- 1) ) : ( 21 * 2 - 1) ])"
   ]
  },
  {
   "cell_type": "code",
   "execution_count": 39,
   "metadata": {},
   "outputs": [
    {
     "data": {
      "text/plain": [
       "(rf    0.180372\n",
       " dtype: float64, rf   -0.043307\n",
       " dtype: float64, rf    0.079433\n",
       " dtype: float64, rf   -0.06422\n",
       " dtype: float64)"
      ]
     },
     "execution_count": 39,
     "metadata": {},
     "output_type": "execute_result"
    }
   ],
   "source": [
    "sharpe"
   ]
  },
  {
   "cell_type": "code",
   "execution_count": 40,
   "metadata": {},
   "outputs": [
    {
     "data": {
      "text/plain": [
       "(0.24484665205775691,\n",
       " 0.39209484506567371,\n",
       " 0.35896120035104045,\n",
       " 0.52211895379176299)"
      ]
     },
     "execution_count": 40,
     "metadata": {},
     "output_type": "execute_result"
    }
   ],
   "source": [
    "md"
   ]
  },
  {
   "cell_type": "markdown",
   "metadata": {},
   "source": [
    "This part is to say the overall market condition, the plot is for SPY. Because I find all the three strategies (reg, huber, uniformly buy and hold) have the similar trend, thus we want to see whether the market have the similar trend, which is true. That means all the strategies are probabily driven by the market movement (this is for stock dataset instead of for ETF dataset)."
   ]
  },
  {
   "cell_type": "code",
   "execution_count": 240,
   "metadata": {},
   "outputs": [
    {
     "data": {
      "image/png": "[encoded data removed]",
      "text/plain": [
       "<matplotlib.figure.Figure at 0x10b55b860>"
      ]
     },
     "metadata": {},
     "output_type": "display_data"
    }
   ],
   "source": [
    "# start_date = datetime.datetime(1998, 5, 1)\n",
    "# end_date = datetime.datetime(2017, 3, 31)\n",
    "# ts = web.DataReader(\"SPY\", \"yahoo\", start_date, end_date)\n",
    "# ts.reset_index(inplace=True)\n",
    "# ts.rename(columns = {'Date': 'DATE'}, inplace=True)\n",
    "# spy = pd.DataFrame(index=ts.index)\n",
    "# #datetime.datetime.fromtimestamp(int(ts['DATE'][0])).strftime(\"%Y-%m-%d\")\n",
    "# spy['DATE'] = ts['DATE'].map(lambda x : x.strftime(\"%Y-%m-%d\"))\n",
    "# spy['spy'] = ts['Adj Close']\n",
    "# spy = pd.merge(spy, time, on = 'DATE')\n",
    "\n",
    "# plt.plot(spy['spy'])\n",
    "# plt.show()"
   ]
  },
  {
   "cell_type": "markdown",
   "metadata": {
    "collapsed": true
   },
   "source": [
    "This part is for lasso and ridge"
   ]
  },
  {
   "cell_type": "code",
   "execution_count": 11,
   "metadata": {
    "collapsed": true
   },
   "outputs": [],
   "source": [
    "def lasso_loss(ret, factor, alpha, para, n_sample, inter):\n",
    "    return ((1 * (np.linalg.norm((ret - np.dot(factor, para) - inter), ord = 2))/(2*n_sample) \n",
    "            + alpha *np.linalg.norm(para, ord = 1) ), (np.linalg.norm((ret - np.dot(factor, para) - inter), ord = 2))/(2*n_sample),\n",
    "           alpha *np.linalg.norm(para, ord = 1))"
   ]
  },
  {
   "cell_type": "code",
   "execution_count": 12,
   "metadata": {
    "collapsed": true
   },
   "outputs": [],
   "source": [
    "def validation(ret, factor):\n",
    "    alpha_ = [ 0.00000001, 0.0000001,100, 1, 0.1, 0.01, 0.001, 0.0001,\n",
    "              0.000000001, 0.0000003, 0.0000006, 0.0000009,\n",
    "             0.00000003, 0.00000006, 0.00000009, 0.000000003, \n",
    "               0.000000006, 0.000000009, 0.0000000001, 0.00000000001, 0]\n",
    "#     alpha_ = [0, 0.1, 100, 0.00001]\n",
    "    #alpha_ = [0]\n",
    "    achosen = alpha_[0]\n",
    "    n = len(ret)\n",
    "    training_index = int(n * 0.8)\n",
    "    training_ret = ret[:training_index]\n",
    "    #print(training_index)\n",
    "    test_ret = ret[training_index:]\n",
    "    training_factor = factor[:training_index]\n",
    "    test_factor = factor[training_index:]\n",
    "    n_sample = len(test_ret)\n",
    "    clf = linear_model.Lasso(alpha=alpha_[0])\n",
    "    clf.fit(training_factor, training_ret)\n",
    "    para = clf.coef_\n",
    "    inter = clf.intercept_\n",
    "    minloss = lasso_loss(test_ret, test_factor, alpha_[0], para, n_sample, inter)\n",
    "    #print(alpha_[0])\n",
    "    #print(minloss)\n",
    "    for i in range(1, len(alpha_)):\n",
    "        clf = linear_model.Lasso(alpha=alpha_[i], max_iter=1000)\n",
    "        clf.fit(training_factor, training_ret)\n",
    "        #print(alpha_[i])\n",
    "        paratem = clf.coef_\n",
    "        inter = clf.intercept_\n",
    "        #print((paratem, inter))\n",
    "        #loss = lasso_loss(test_ret, test_factor, alpha_[i], paratem, n_sample, inter)\n",
    "        loss = lasso_loss(test_ret, test_factor, alpha_[i], paratem, n_sample, inter)\n",
    "        #print(loss)\n",
    "        if(loss < minloss):\n",
    "            minloss = loss\n",
    "            achosen = alpha_[i]\n",
    "    print(achosen)\n",
    "    return achosen"
   ]
  },
  {
   "cell_type": "code",
   "execution_count": 13,
   "metadata": {
    "collapsed": true
   },
   "outputs": [],
   "source": [
    "def lasso(ret, factor, horizon, num):\n",
    "    factor = factor.ix[1:]\n",
    "    ret = ret[:-1]\n",
    "    del factor['date']\n",
    "    del ret['date']\n",
    "    new_factor = pca(factor, num)\n",
    "    norm_factor = normalize(new_factor)\n",
    "    fitted = pd.DataFrame(index=ret.index)\n",
    "    #norm_factor['one'] = np.ones(len(norm_factor))\n",
    "    residual = []\n",
    "    B = []\n",
    "    inter = []\n",
    "    for i in ret.columns:\n",
    "        alpha_chosen = validation(ret[i], norm_factor)\n",
    "        clf = linear_model.Lasso(alpha=alpha_chosen, max_iter=1000)\n",
    "        clf.fit(norm_factor, ret[i])\n",
    "        para = clf.coef_\n",
    "        B.append(para)\n",
    "        inter.append(clf.intercept_)\n",
    "        #print(para)\n",
    "        fitted[i] = np.dot(norm_factor, para)\n",
    "        #print(fitted[i])\n",
    "        resi = ret[i] - fitted[i] - clf.intercept_\n",
    "        residual.append(np.var(resi))\n",
    "    intercept = np.array(inter)\n",
    "    mean = np.mean(fitted) + intercept\n",
    "    B = np.matrix(B)\n",
    "    #print(mean[0])\n",
    "    cov_factor = np.cov(norm_factor, rowvar=0)\n",
    "    allresidual = np.array(residual)\n",
    "    cov_res = np.diag(allresidual)\n",
    "    #print(cov_res)\n",
    "    cov = np.dot(np.dot(B, cov_factor), np.transpose(B)) + cov_res\n",
    "    return projection(estimate(mean, cov),horizon)"
   ]
  },
  {
   "cell_type": "code",
   "execution_count": 14,
   "metadata": {
    "collapsed": true
   },
   "outputs": [],
   "source": [
    "def ridge_loss(ret, factor, alpha, para, n_sample, inter):\n",
    "    return ((1 * (np.linalg.norm((ret - np.dot(factor, para) - inter), ord = 2))\n",
    "            + alpha *np.linalg.norm(para, ord = 2) ), np.linalg.norm((ret - np.dot(factor, para) - inter), ord = 2),\n",
    "                                       alpha *np.linalg.norm(para, ord = 2))"
   ]
  },
  {
   "cell_type": "code",
   "execution_count": 15,
   "metadata": {
    "collapsed": true
   },
   "outputs": [],
   "source": [
    "def validation_ridge(ret, factor):\n",
    "    alpha_ = [ 1000, 0.00001, 0]\n",
    "    #alpha_ = [0]\n",
    "    achosen = alpha_[0]\n",
    "    n = len(ret)\n",
    "    training_index = int(n * 0.8)\n",
    "    training_ret = ret[:training_index]\n",
    "    #print(training_index)\n",
    "    test_ret = ret[training_index:]\n",
    "    training_factor = factor[:training_index]\n",
    "    test_factor = factor[training_index:]\n",
    "    n_sample = len(test_ret)\n",
    "    clf = linear_model.Ridge(alpha=alpha_[0])\n",
    "    clf.fit(training_factor, training_ret)\n",
    "    para = clf.coef_\n",
    "    inter = clf.intercept_\n",
    "    minloss = ridge_loss(test_ret, test_factor, alpha_[0], para, n_sample, inter)\n",
    "    #print(alpha_[0])\n",
    "    #print(minloss)\n",
    "    for i in range(1, len(alpha_)):\n",
    "        #print(alpha_[i])\n",
    "        clf = linear_model.Ridge(alpha=alpha_[i], max_iter=1000)\n",
    "        clf.fit(training_factor, training_ret)\n",
    "        paratem = clf.coef_\n",
    "        inter = clf.intercept_\n",
    "        loss = ridge_loss(test_ret, test_factor, alpha_[i], paratem, n_sample, inter)\n",
    "        #print(loss)\n",
    "        #print((paratem, clf.intercept_))\n",
    "        if(loss < minloss):\n",
    "            minloss = loss\n",
    "            achosen = alpha_[i]\n",
    "    print(achosen)\n",
    "    return achosen"
   ]
  },
  {
   "cell_type": "code",
   "execution_count": 16,
   "metadata": {
    "collapsed": true
   },
   "outputs": [],
   "source": [
    "def ridge(ret, factor, horizon, num):\n",
    "    factor = factor.ix[1:]\n",
    "    ret = ret[:-1]\n",
    "    del factor['date']\n",
    "    del ret['date']\n",
    "    new_factor = pca(factor, num)\n",
    "    norm_factor = normalize(new_factor)\n",
    "    fitted = pd.DataFrame(index=ret.index)\n",
    "    #norm_factor['one'] = np.ones(len(norm_factor))\n",
    "    residual = []\n",
    "    B = []\n",
    "    inter = []\n",
    "    for i in ret.columns:\n",
    "        alpha_chosen = validation_ridge(ret[i], norm_factor)\n",
    "        clf = linear_model.Ridge(alpha=alpha_chosen, max_iter=1000)\n",
    "        clf.fit(norm_factor, ret[i])\n",
    "        para = clf.coef_\n",
    "        B.append(para)\n",
    "        inter.append(clf.intercept_)\n",
    "        #print(para)\n",
    "        fitted[i] = np.dot(norm_factor, para)\n",
    "        #print(fitted[i])\n",
    "        resi = ret[i] - fitted[i] - clf.intercept_\n",
    "        residual.append(np.var(resi))\n",
    "    intercept = np.array(inter)\n",
    "    mean = np.mean(fitted) + intercept\n",
    "    B = np.matrix(B)\n",
    "    #print(mean[0])\n",
    "    cov_factor = np.cov(norm_factor, rowvar=0)\n",
    "    allresidual = np.array(residual)\n",
    "    cov_res = np.diag(allresidual)\n",
    "    #print(cov_res)\n",
    "    cov = np.dot(np.dot(B, cov_factor), np.transpose(B)) + cov_res\n",
    "    return projection(estimate(mean, cov),horizon)"
   ]
  },
  {
   "cell_type": "code",
   "execution_count": 17,
   "metadata": {},
   "outputs": [],
   "source": [
    "factor = pd.read_csv('data.txt', sep='\\t')\n",
    "ret = pd.read_csv('ret_etf.txt', sep='\\t')"
   ]
  },
  {
   "cell_type": "code",
   "execution_count": 21,
   "metadata": {},
   "outputs": [],
   "source": [
    "time = pd.DataFrame(index = ret.index)\n",
    "time['DATE'] = ret['DATE']\n",
    "factor = pd.merge(time, factor, on = 'DATE')\n",
    "time = pd.DataFrame(index = factor.index)\n",
    "time['DATE'] = factor['DATE']\n",
    "ret = pd.merge(ret, time, on = 'DATE')\n",
    "factor['date'] = factor['DATE'].map(lambda x : std(x))\n",
    "ret['date'] = ret['DATE'].map(lambda x : std(x))\n",
    "del factor['DATE']\n",
    "del ret['DATE']\n",
    "rf = pd.DataFrame(index = ret.index)\n",
    "rf['rf'] = ret['rf']\n",
    "del ret['rf']\n",
    "try_factor = factor[factor['date'] <= datetime.datetime(2014, 6, 2)]\n",
    "try_ret = ret[ret['date'] <= datetime.datetime(2014, 6, 2)]"
   ]
  },
  {
   "cell_type": "code",
   "execution_count": 29,
   "metadata": {},
   "outputs": [
    {
     "name": "stdout",
     "output_type": "stream",
     "text": [
      "[ 0.84518406  0.13036573  0.01643647]\n",
      "0\n",
      "100\n",
      "100\n",
      "0\n"
     ]
    },
    {
     "name": "stderr",
     "output_type": "stream",
     "text": [
      "/Library/Frameworks/Python.framework/Versions/3.5/lib/python3.5/site-packages/ipykernel/__main__.py:26: UserWarning: With alpha=0, this algorithm does not converge well. You are advised to use the LinearRegression estimator\n",
      "/Library/Frameworks/Python.framework/Versions/3.5/lib/python3.5/site-packages/sklearn/linear_model/coordinate_descent.py:470: UserWarning: Coordinate descent with alpha=0 may lead to unexpected results and is discouraged.\n",
      "  positive)\n",
      "/Library/Frameworks/Python.framework/Versions/3.5/lib/python3.5/site-packages/sklearn/linear_model/coordinate_descent.py:484: ConvergenceWarning: Objective did not converge. You might want to increase the number of iterations. Fitting data with very small alpha may cause precision problems.\n",
      "  ConvergenceWarning)\n",
      "/Library/Frameworks/Python.framework/Versions/3.5/lib/python3.5/site-packages/ipykernel/__main__.py:16: UserWarning: With alpha=0, this algorithm does not converge well. You are advised to use the LinearRegression estimator\n"
     ]
    },
    {
     "name": "stdout",
     "output_type": "stream",
     "text": [
      "100\n",
      "100\n",
      "0\n",
      "0\n",
      "0\n",
      "0\n",
      "0\n",
      "0\n",
      "0\n",
      "100\n",
      "100\n",
      "100\n",
      "100\n",
      "0\n",
      "100\n",
      "0\n",
      "100\n",
      "0\n",
      "3e-09\n",
      "100\n",
      "100\n",
      "100\n",
      "100\n",
      "0.0001\n",
      "100\n"
     ]
    }
   ],
   "source": [
    "trylasso = lasso(try_ret, try_factor, 21, 3)\n",
    "#print(trylasso.mean, trylasso.cov)"
   ]
  },
  {
   "cell_type": "code",
   "execution_count": 35,
   "metadata": {},
   "outputs": [
    {
     "name": "stdout",
     "output_type": "stream",
     "text": [
      "[ 0.84518406  0.13036573  0.01643647]\n",
      "0\n",
      "0\n",
      "0\n",
      "0\n",
      "0\n",
      "0\n",
      "0\n",
      "0\n",
      "0\n",
      "0\n",
      "0\n",
      "0\n",
      "0\n",
      "0\n",
      "0\n",
      "0\n",
      "0\n",
      "0\n",
      "0\n",
      "0\n",
      "0\n",
      "0\n",
      "0\n",
      "0\n",
      "0\n",
      "0\n",
      "0\n",
      "0\n",
      "0\n"
     ]
    }
   ],
   "source": [
    "tryridge = ridge(try_ret, try_factor, 21, 3)\n",
    "#print(tryridge.mean, tryridge.cov)"
   ]
  },
  {
   "cell_type": "code",
   "execution_count": null,
   "metadata": {
    "collapsed": true
   },
   "outputs": [],
   "source": []
  }
 ],
 "metadata": {
  "kernelspec": {
   "display_name": "Python 3",
   "language": "python",
   "name": "python3"
  },
  "language_info": {
   "codemirror_mode": {
    "name": "ipython",
    "version": 3
   },
   "file_extension": ".py",
   "mimetype": "text/x-python",
   "name": "python",
   "nbconvert_exporter": "python",
   "pygments_lexer": "ipython3",
   "version": "3.6.3"
  }
 },
 "nbformat": 4,
 "nbformat_minor": 1
}
